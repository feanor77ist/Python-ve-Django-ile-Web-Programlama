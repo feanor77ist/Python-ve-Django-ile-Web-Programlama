{
 "cells": [
  {
   "cell_type": "code",
   "execution_count": null,
   "metadata": {},
   "outputs": [],
   "source": [
    "\"\"\"\n",
    "Soru 1:\n",
    "Aşağıdaki gibi bir kod parçasının çıktısı nedir ?\n",
    "\n",
    "\"\"\"\n",
    "a = 2\n",
    "a * a * a"
   ]
  },
  {
   "cell_type": "code",
   "execution_count": null,
   "metadata": {},
   "outputs": [],
   "source": [
    "\"\"\"\n",
    "Soru 2:\n",
    "Bu kod parçasındaki 'c' değişkeninin değeri hangisidir ?\n",
    "\"\"\"\n",
    "\n",
    "a = 5\n",
    "b = 6\n",
    "a += 1\n",
    "b -= 2\n",
    "c = a + 2 * b"
   ]
  }
 ],
 "metadata": {
  "kernelspec": {
   "display_name": "Python 3",
   "language": "python",
   "name": "python3"
  },
  "language_info": {
   "codemirror_mode": {
    "name": "ipython",
    "version": 3
   },
   "file_extension": ".py",
   "mimetype": "text/x-python",
   "name": "python",
   "nbconvert_exporter": "python",
   "pygments_lexer": "ipython3",
   "version": "3.10.8"
  }
 },
 "nbformat": 4,
 "nbformat_minor": 2
}
